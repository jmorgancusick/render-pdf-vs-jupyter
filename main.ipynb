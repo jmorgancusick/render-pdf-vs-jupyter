{
 "cells": [
  {
   "cell_type": "code",
   "execution_count": null,
   "metadata": {},
   "outputs": [],
   "source": [
    "print('hello')\n",
    "\n",
    "from IPython.display import IFrame\n",
    "IFrame('./test/Ryan Howard Offer Letter.docx.pdf', width=600, height=800)"
   ]
  }
 ],
 "metadata": {
  "kernelspec": {
   "display_name": "render_pdf_vs_jupyter-FKGTDuDu",
   "language": "python",
   "name": "python3"
  },
  "language_info": {
   "codemirror_mode": {
    "name": "ipython",
    "version": 3
   },
   "file_extension": ".py",
   "mimetype": "text/x-python",
   "name": "python",
   "nbconvert_exporter": "python",
   "pygments_lexer": "ipython3",
   "version": "3.11.5"
  }
 },
 "nbformat": 4,
 "nbformat_minor": 2
}
